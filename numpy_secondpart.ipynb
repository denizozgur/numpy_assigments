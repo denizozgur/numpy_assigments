{
 "cells": [
  {
   "cell_type": "code",
   "execution_count": 2,
   "id": "69734b0f",
   "metadata": {},
   "outputs": [
    {
     "data": {
      "text/plain": [
       "23.0"
      ]
     },
     "execution_count": 2,
     "metadata": {},
     "output_type": "execute_result"
    }
   ],
   "source": [
    "# Getting mean\n",
    "import numpy as np\n",
    "i=np.array([1,82,3,6])\n"
   ]
  },
  {
   "cell_type": "code",
   "execution_count": 3,
   "id": "1f10cd78",
   "metadata": {},
   "outputs": [
    {
     "data": {
      "text/plain": [
       "92"
      ]
     },
     "execution_count": 3,
     "metadata": {},
     "output_type": "execute_result"
    }
   ],
   "source": [
    "# Gives sum of all elements\n",
    "\n"
   ]
  },
  {
   "cell_type": "code",
   "execution_count": 4,
   "id": "c8e4387b",
   "metadata": {},
   "outputs": [
    {
     "data": {
      "text/plain": [
       "array([ 1,  3,  6, 82])"
      ]
     },
     "execution_count": 4,
     "metadata": {},
     "output_type": "execute_result"
    }
   ],
   "source": [
    "# Sorts the array\n",
    "\n"
   ]
  },
  {
   "cell_type": "code",
   "execution_count": 5,
   "id": "cebc31b0",
   "metadata": {},
   "outputs": [
    {
     "data": {
      "text/plain": [
       "[array([1, 2]), array([3, 2, 4]), array([6, 6]), array([9, 0, 5, 3])]"
      ]
     },
     "execution_count": 5,
     "metadata": {},
     "output_type": "execute_result"
    }
   ],
   "source": [
    "# Splitting of an array into n arrays\n",
    "\n",
    "x=np.array(([1,2,3,2,4,6,6,9,0,5,3]))\n",
    "\n",
    "\n",
    "np.split(x,[2,5,7])"
   ]
  },
  {
   "cell_type": "code",
   "execution_count": 6,
   "id": "c0734687",
   "metadata": {},
   "outputs": [
    {
     "data": {
      "text/plain": [
       "[array([[1, 2],\n",
       "        [2, 4]]),\n",
       " array([[ 3,  5,  7],\n",
       "        [ 6,  8, 10]]),\n",
       " array([[ 9,  3],\n",
       "        [12, 14]])]"
      ]
     },
     "execution_count": 6,
     "metadata": {},
     "output_type": "execute_result"
    }
   ],
   "source": [
    "# Coloumn-wise split\n",
    "\n",
    "x=np.array(([1,2,3,5,7,9,3],\n",
    "            [2,4,6,8,10,12,14]))\n",
    "\n"
   ]
  },
  {
   "cell_type": "code",
   "execution_count": 7,
   "id": "82878772",
   "metadata": {},
   "outputs": [
    {
     "data": {
      "text/plain": [
       "[array([[ 1,  2,  3,  5,  7,  9,  3],\n",
       "        [ 2,  4,  6,  8, 10, 12, 14]]),\n",
       " array([], shape=(0, 7), dtype=int32),\n",
       " array([], shape=(0, 7), dtype=int32)]"
      ]
     },
     "execution_count": 7,
     "metadata": {},
     "output_type": "execute_result"
    }
   ],
   "source": [
    "# Row-wise split\n",
    "\n",
    "x=np.array(([1,2,3,5,7,9,3],\n",
    "            [2,4,6,8,10,12,14]))\n",
    "\n"
   ]
  },
  {
   "cell_type": "code",
   "execution_count": null,
   "id": "891e6f64",
   "metadata": {},
   "outputs": [],
   "source": [
    "\"\"\" Create a Python script that utilizes NumPy to simulate dice rolls,\n",
    "calculate probabilities, and perform basic statistical analysis.\n",
    "This project aims to demonstrate the use of NumPy for simulations and basic statistical computations\"\"\"\n",
    "#this one is optional but it combines your skills on python and numpy you may also use visualization "
   ]
  },
  {
   "cell_type": "code",
   "execution_count": null,
   "id": "f211d3c8",
   "metadata": {},
   "outputs": [],
   "source": []
  },
  {
   "cell_type": "code",
   "execution_count": null,
   "id": "b60a1c17",
   "metadata": {},
   "outputs": [],
   "source": []
  },
  {
   "cell_type": "code",
   "execution_count": null,
   "id": "383c35a6",
   "metadata": {},
   "outputs": [],
   "source": []
  },
  {
   "cell_type": "code",
   "execution_count": null,
   "id": "59bed007",
   "metadata": {},
   "outputs": [],
   "source": []
  }
 ],
 "metadata": {
  "kernelspec": {
   "display_name": "Python 3 (ipykernel)",
   "language": "python",
   "name": "python3"
  },
  "language_info": {
   "codemirror_mode": {
    "name": "ipython",
    "version": 3
   },
   "file_extension": ".py",
   "mimetype": "text/x-python",
   "name": "python",
   "nbconvert_exporter": "python",
   "pygments_lexer": "ipython3",
   "version": "3.11.5"
  }
 },
 "nbformat": 4,
 "nbformat_minor": 5
}
